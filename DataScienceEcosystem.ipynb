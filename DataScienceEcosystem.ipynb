{
 "cells": [
  {
   "cell_type": "markdown",
   "id": "37104408-c14b-4c3d-81e0-cb3bad5aef4a",
   "metadata": {
    "tags": []
   },
   "source": [
    "# Data Science Tools and Ecosystem"
   ]
  },
  {
   "cell_type": "markdown",
   "id": "aa73b6d7-ffe3-4524-82da-080092af3405",
   "metadata": {},
   "source": [
    "In this notebook, Data Science Tools and Ecosystem are summarized."
   ]
  },
  {
   "cell_type": "markdown",
   "id": "4855d555-9ad4-4f5d-bcb6-0ad4be0b4869",
   "metadata": {},
   "source": [
    "Some of the popular languages that Data Scientists use are:</p>\n",
    "    1. Python</p>\n",
    "    2. R</p>\n",
    "    3. Julia</p>"
   ]
  },
  {
   "cell_type": "markdown",
   "id": "cbf04a16-a953-4a44-a5c1-78ef481453f1",
   "metadata": {},
   "source": [
    "Some of the commonly used libraries used by Data Scientists include:</p>\n",
    "1. NumPy</p>\n",
    "2. Pandas</p>\n",
    "3. Seaborn</p>"
   ]
  },
  {
   "cell_type": "markdown",
   "id": "28e885a4-af90-4672-9207-bbdd6df2f1d6",
   "metadata": {},
   "source": [
    "|Data Science Tools|\n",
    "|--- |\n",
    "|Jupyter Notebooks|\n",
    "|RStudio|\n",
    "|Apache Spark|"
   ]
  },
  {
   "cell_type": "markdown",
   "id": "f587c705-6489-4c83-88b1-1cc9790992f9",
   "metadata": {},
   "source": [
    "### Below are a few examples of evaluating arithmetic expressions in Python"
   ]
  },
  {
   "cell_type": "code",
   "execution_count": 6,
   "id": "82578239-f5ba-4c08-9375-59c423c66074",
   "metadata": {},
   "outputs": [
    {
     "data": {
      "text/plain": [
       "17"
      ]
     },
     "execution_count": 6,
     "metadata": {},
     "output_type": "execute_result"
    }
   ],
   "source": [
    "# This a simple arithmetic expression to mutiply then add integers\n",
    "(3*4)+5"
   ]
  },
  {
   "cell_type": "code",
   "execution_count": 7,
   "id": "f44ef813-b4dc-4492-9ff4-012c42cf1c1e",
   "metadata": {},
   "outputs": [
    {
     "data": {
      "text/plain": [
       "3.3333333333333335"
      ]
     },
     "execution_count": 7,
     "metadata": {},
     "output_type": "execute_result"
    }
   ],
   "source": [
    "#This will convert 200 minutes to hours by diving by 60\n",
    "200/60"
   ]
  },
  {
   "cell_type": "markdown",
   "id": "fa8a3dbd-f402-4abf-9d48-9ae743537f44",
   "metadata": {},
   "source": [
    "__Objectives:__\n",
    "- List popular languages for Data Science\n",
    "- Basic arithmetic operations\n",
    "- Use of markdown cells"
   ]
  },
  {
   "cell_type": "markdown",
   "id": "1d050317-96f0-4e2e-b337-55c420982a9f",
   "metadata": {},
   "source": [
    "## Author\n",
    "Flavie"
   ]
  },
  {
   "cell_type": "code",
   "execution_count": null,
   "id": "dbbbf323-32d4-4506-9789-de308627f30d",
   "metadata": {},
   "outputs": [],
   "source": []
  }
 ],
 "metadata": {
  "kernelspec": {
   "display_name": "Python 3 (ipykernel)",
   "language": "python",
   "name": "python3"
  },
  "language_info": {
   "codemirror_mode": {
    "name": "ipython",
    "version": 3
   },
   "file_extension": ".py",
   "mimetype": "text/x-python",
   "name": "python",
   "nbconvert_exporter": "python",
   "pygments_lexer": "ipython3",
   "version": "3.9.13"
  }
 },
 "nbformat": 4,
 "nbformat_minor": 5
}
